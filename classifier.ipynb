{
 "cells": [
  {
   "cell_type": "markdown",
   "metadata": {},
   "source": [
    "we will be creating a relatively simple `ConvNet classifier` that is capable of classifying between <i>Hot Dogs</i> and <i>Not Hot Dogs</i>.\n",
    "\n",
    "A `Convolutional Neural Network` is a type of neural network that is used in <u>Computer Vision</u> and <u>Natural Language Processing</u> tasks quite often due to the fact that it can learn to extract relevant features from the input data.\n",
    "\n",
    "it can do two things really well if it is trained properly:\n",
    "- Generate predictions for new input samples (output layer, which outputs the predictions of the model. This can either be a <u>binary prediction,</u> which is the case for our hot-dog classifier, or a <u>multiclass/multilabel</u> prediction.)\n",
    "- Extract relevant features from the input data to generate those predictions.\n",
    "\n",
    "\n",
    "It is not surprising to find (1), which is our case for this classifier, with this class of machine learning models, or with any machine learning model, because it is the essence of the `supervised machine learning` process: training a model with some data in order to make it capable of generating new <u>predictions</u>."
   ]
  },
  {
   "cell_type": "markdown",
   "metadata": {},
   "source": [
    "Before we can build the model, it's important that you ensure that your development environment is ready..."
   ]
  },
  {
   "cell_type": "code",
   "execution_count": 1,
   "metadata": {},
   "outputs": [
    {
     "name": "stdout",
     "output_type": "stream",
     "text": [
      "Defaulting to user installation because normal site-packages is not writeable\n",
      "Requirement already satisfied: tensorflow in /home/yassa/.local/lib/python3.10/site-packages (2.15.0.post1)\n",
      "Requirement already satisfied: numpy in /home/yassa/.local/lib/python3.10/site-packages (1.26.2)\n",
      "Requirement already satisfied: opencv-python in /home/yassa/.local/lib/python3.10/site-packages (4.8.1.78)\n",
      "Requirement already satisfied: matplotlib in /home/yassa/.local/lib/python3.10/site-packages (3.8.2)\n",
      "Requirement already satisfied: termcolor>=1.1.0 in /home/yassa/.local/lib/python3.10/site-packages (from tensorflow) (2.4.0)\n",
      "Requirement already satisfied: keras<2.16,>=2.15.0 in /home/yassa/.local/lib/python3.10/site-packages (from tensorflow) (2.15.0)\n",
      "Requirement already satisfied: libclang>=13.0.0 in /home/yassa/.local/lib/python3.10/site-packages (from tensorflow) (16.0.6)\n",
      "Requirement already satisfied: opt-einsum>=2.3.2 in /home/yassa/.local/lib/python3.10/site-packages (from tensorflow) (3.3.0)\n",
      "Requirement already satisfied: flatbuffers>=23.5.26 in /home/yassa/.local/lib/python3.10/site-packages (from tensorflow) (23.5.26)\n",
      "Requirement already satisfied: astunparse>=1.6.0 in /home/yassa/.local/lib/python3.10/site-packages (from tensorflow) (1.6.3)\n",
      "Requirement already satisfied: gast!=0.5.0,!=0.5.1,!=0.5.2,>=0.2.1 in /home/yassa/.local/lib/python3.10/site-packages (from tensorflow) (0.5.4)\n",
      "Requirement already satisfied: setuptools in /usr/lib/python3/dist-packages (from tensorflow) (59.6.0)\n",
      "Requirement already satisfied: google-pasta>=0.1.1 in /home/yassa/.local/lib/python3.10/site-packages (from tensorflow) (0.2.0)\n",
      "Requirement already satisfied: h5py>=2.9.0 in /home/yassa/.local/lib/python3.10/site-packages (from tensorflow) (3.10.0)\n",
      "Requirement already satisfied: ml-dtypes~=0.2.0 in /home/yassa/.local/lib/python3.10/site-packages (from tensorflow) (0.2.0)\n",
      "Requirement already satisfied: packaging in /home/yassa/.local/lib/python3.10/site-packages (from tensorflow) (23.2)\n",
      "Requirement already satisfied: tensorboard<2.16,>=2.15 in /home/yassa/.local/lib/python3.10/site-packages (from tensorflow) (2.15.1)\n",
      "Requirement already satisfied: grpcio<2.0,>=1.24.3 in /home/yassa/.local/lib/python3.10/site-packages (from tensorflow) (1.60.0)\n",
      "Requirement already satisfied: absl-py>=1.0.0 in /home/yassa/.local/lib/python3.10/site-packages (from tensorflow) (2.0.0)\n",
      "Requirement already satisfied: six>=1.12.0 in /usr/lib/python3/dist-packages (from tensorflow) (1.16.0)\n",
      "Requirement already satisfied: tensorflow-estimator<2.16,>=2.15.0 in /home/yassa/.local/lib/python3.10/site-packages (from tensorflow) (2.15.0)\n",
      "Requirement already satisfied: protobuf!=4.21.0,!=4.21.1,!=4.21.2,!=4.21.3,!=4.21.4,!=4.21.5,<5.0.0dev,>=3.20.3 in /home/yassa/.local/lib/python3.10/site-packages (from tensorflow) (4.23.4)\n",
      "Requirement already satisfied: typing-extensions>=3.6.6 in /home/yassa/.local/lib/python3.10/site-packages (from tensorflow) (4.8.0)\n",
      "Requirement already satisfied: wrapt<1.15,>=1.11.0 in /home/yassa/.local/lib/python3.10/site-packages (from tensorflow) (1.14.1)\n",
      "Requirement already satisfied: tensorflow-io-gcs-filesystem>=0.23.1 in /home/yassa/.local/lib/python3.10/site-packages (from tensorflow) (0.34.0)\n",
      "Requirement already satisfied: pillow>=8 in /home/yassa/.local/lib/python3.10/site-packages (from matplotlib) (10.1.0)\n",
      "Requirement already satisfied: python-dateutil>=2.7 in /home/yassa/.local/lib/python3.10/site-packages (from matplotlib) (2.8.2)\n",
      "Requirement already satisfied: pyparsing>=2.3.1 in /usr/lib/python3/dist-packages (from matplotlib) (2.4.7)\n",
      "Requirement already satisfied: fonttools>=4.22.0 in /home/yassa/.local/lib/python3.10/site-packages (from matplotlib) (4.46.0)\n",
      "Requirement already satisfied: cycler>=0.10 in /home/yassa/.local/lib/python3.10/site-packages (from matplotlib) (0.12.1)\n",
      "Requirement already satisfied: contourpy>=1.0.1 in /home/yassa/.local/lib/python3.10/site-packages (from matplotlib) (1.2.0)\n",
      "Requirement already satisfied: kiwisolver>=1.3.1 in /home/yassa/.local/lib/python3.10/site-packages (from matplotlib) (1.4.5)\n",
      "Requirement already satisfied: wheel<1.0,>=0.23.0 in /usr/lib/python3/dist-packages (from astunparse>=1.6.0->tensorflow) (0.37.1)\n",
      "Requirement already satisfied: requests<3,>=2.21.0 in /home/yassa/.local/lib/python3.10/site-packages (from tensorboard<2.16,>=2.15->tensorflow) (2.31.0)\n",
      "Requirement already satisfied: tensorboard-data-server<0.8.0,>=0.7.0 in /home/yassa/.local/lib/python3.10/site-packages (from tensorboard<2.16,>=2.15->tensorflow) (0.7.2)\n",
      "Requirement already satisfied: werkzeug>=1.0.1 in /home/yassa/.local/lib/python3.10/site-packages (from tensorboard<2.16,>=2.15->tensorflow) (3.0.1)\n",
      "Requirement already satisfied: google-auth<3,>=1.6.3 in /home/yassa/.local/lib/python3.10/site-packages (from tensorboard<2.16,>=2.15->tensorflow) (2.25.2)\n",
      "Requirement already satisfied: markdown>=2.6.8 in /home/yassa/.local/lib/python3.10/site-packages (from tensorboard<2.16,>=2.15->tensorflow) (3.5.1)\n",
      "Requirement already satisfied: google-auth-oauthlib<2,>=0.5 in /home/yassa/.local/lib/python3.10/site-packages (from tensorboard<2.16,>=2.15->tensorflow) (1.2.0)\n",
      "Requirement already satisfied: cachetools<6.0,>=2.0.0 in /home/yassa/.local/lib/python3.10/site-packages (from google-auth<3,>=1.6.3->tensorboard<2.16,>=2.15->tensorflow) (5.3.2)\n",
      "Requirement already satisfied: rsa<5,>=3.1.4 in /home/yassa/.local/lib/python3.10/site-packages (from google-auth<3,>=1.6.3->tensorboard<2.16,>=2.15->tensorflow) (4.9)\n",
      "Requirement already satisfied: pyasn1-modules>=0.2.1 in /home/yassa/.local/lib/python3.10/site-packages (from google-auth<3,>=1.6.3->tensorboard<2.16,>=2.15->tensorflow) (0.3.0)\n",
      "Requirement already satisfied: requests-oauthlib>=0.7.0 in /home/yassa/.local/lib/python3.10/site-packages (from google-auth-oauthlib<2,>=0.5->tensorboard<2.16,>=2.15->tensorflow) (1.3.1)\n",
      "Requirement already satisfied: idna<4,>=2.5 in /home/yassa/.local/lib/python3.10/site-packages (from requests<3,>=2.21.0->tensorboard<2.16,>=2.15->tensorflow) (3.6)\n",
      "Requirement already satisfied: certifi>=2017.4.17 in /home/yassa/.local/lib/python3.10/site-packages (from requests<3,>=2.21.0->tensorboard<2.16,>=2.15->tensorflow) (2023.11.17)\n",
      "Requirement already satisfied: charset-normalizer<4,>=2 in /home/yassa/.local/lib/python3.10/site-packages (from requests<3,>=2.21.0->tensorboard<2.16,>=2.15->tensorflow) (3.3.2)\n",
      "Requirement already satisfied: urllib3<3,>=1.21.1 in /home/yassa/.local/lib/python3.10/site-packages (from requests<3,>=2.21.0->tensorboard<2.16,>=2.15->tensorflow) (2.1.0)\n",
      "Requirement already satisfied: MarkupSafe>=2.1.1 in /home/yassa/.local/lib/python3.10/site-packages (from werkzeug>=1.0.1->tensorboard<2.16,>=2.15->tensorflow) (2.1.3)\n",
      "Requirement already satisfied: pyasn1<0.6.0,>=0.4.6 in /home/yassa/.local/lib/python3.10/site-packages (from pyasn1-modules>=0.2.1->google-auth<3,>=1.6.3->tensorboard<2.16,>=2.15->tensorflow) (0.5.1)\n",
      "Requirement already satisfied: oauthlib>=3.0.0 in /usr/lib/python3/dist-packages (from requests-oauthlib>=0.7.0->google-auth-oauthlib<2,>=0.5->tensorboard<2.16,>=2.15->tensorflow) (3.2.0)\n",
      "Note: you may need to restart the kernel to use updated packages.\n"
     ]
    }
   ],
   "source": [
    "%pip install tensorflow numpy opencv-python matplotlib"
   ]
  },
  {
   "cell_type": "markdown",
   "metadata": {},
   "source": [
    "`TensorFlow` is an end-to-end open source platform for machine learning.\n",
    "\n",
    "`keras` provides essential abstractions and building blocks for developing and shipping machine learning solutions with high iteration velocity."
   ]
  },
  {
   "cell_type": "code",
   "execution_count": 19,
   "metadata": {},
   "outputs": [],
   "source": [
    "from tensorflow import keras\n",
    "from keras.layers import Dense, Conv2D, Flatten\n",
    "from keras.models import Sequential, load_model\n",
    "import numpy as np\n",
    "import pandas as pd\n",
    "import os\n",
    "import cv2"
   ]
  },
  {
   "cell_type": "markdown",
   "metadata": {},
   "source": [
    "### Adding the model configuration\n"
   ]
  },
  {
   "cell_type": "markdown",
   "metadata": {},
   "source": [
    "we'll be using 25 x 25 pixel images that are grayscale (hence the <i>1</i> in the `input_shape`), use a `batch size` of <i>10</i> (our data set will be relatively small), <i>25</i> iterations, <i>2</i> classes (not hot dog = 0 / hot dog = 1), and <i>20%</i> of our data will be used for <u>testing purposes</u>. We make the training process <u>verbose</u>, meaning that all results will be printed on screen."
   ]
  },
  {
   "cell_type": "code",
   "execution_count": 11,
   "metadata": {},
   "outputs": [],
   "source": [
    "# Configuration\n",
    "img_width, img_height = 25, 25\n",
    "input_shape = (img_width, img_height, 1)\n",
    "batch_size = 10\n",
    "no_epochs = 25\n",
    "no_classes = 2\n",
    "validation_split = 0.2\n",
    "verbosity = 1"
   ]
  },
  {
   "cell_type": "markdown",
   "metadata": {},
   "source": [
    "### Loading and preprocessing of the dataset\n"
   ]
  },
  {
   "cell_type": "markdown",
   "metadata": {},
   "source": [
    "dataset is available at [Kaggle](https://www.kaggle.com/datasets/thedatasith/hotdog-nothotdog/data)\n",
    "\n",
    "After downloading, unzip the data, and make sure u follow the following <u>directory structure</u> with respect to this <u>naming conventions</u>:\n",
    "\n",
    "``` bash\n",
    "├── assets \n",
    "    ├── test\n",
    "        ├── hot_dog\n",
    "        ├── not_hot_dog   \n",
    "    ├── train\n",
    "        ├── hot_dog\n",
    "        ├── not_hot_dog\n",
    "```"
   ]
  },
  {
   "cell_type": "markdown",
   "metadata": {},
   "source": [
    "Now the following procedure does a couple of things:\n",
    "- It allows us to specify the `data_type` and the `class_name`. By default, it attempts to load <i>hot_dog</i> images from the <i>train</i> folder.\n",
    "- It loads the image using imread, as a `grayscale` image - by means of the <i>0</i> specification. We don't want colors of images to interfere with the prediction, as it's all about shape. This is especially important in the case of small datasets, which can be biased. That's why we load the images as `grayscale` ones.\n",
    "We resize the images to `25 x 25` pixels, in line with the model configuration specified above. Resizing is necessary for two reasons.\n",
    "    - Firstly, images can be really large sometimes, and this can hamper learning. It's usually best to train your models with images relatively small in size. \n",
    "    - Secondly, your model will accept inputs only when they have the shape of the input specified in the Input layer. That's why all images must be using the same number of color channels (that is, either RGB or grayscale, but not both) and be of the same size.\n",
    "- We append the resized image to the <u>list of instances</u>, and the corresponding class number to the <u>list of classes</u>.\n",
    "- We return a `tuple` with the <u>instances and classes.</u>"
   ]
  },
  {
   "cell_type": "code",
   "execution_count": 12,
   "metadata": {},
   "outputs": [],
   "source": [
    "# Load data\n",
    "def load_data(data_type='train', class_name='hot_dog'):\n",
    "  instances = []\n",
    "  classes = []\n",
    "  for filepath in os.listdir(f'assets/{data_type}/{class_name}'):\n",
    "    resized_image = cv2.imread(f'assets/{data_type}/{class_name}/{format(filepath)}', 0)\n",
    "    resized_image = cv2.resize(resized_image, (img_width, img_height))\n",
    "    instances.append(resized_image)\n",
    "    classes.append(0 if class_name == 'not_hot_dog' else 1)\n",
    "  return (instances, classes)"
   ]
  },
  {
   "cell_type": "markdown",
   "metadata": {},
   "source": [
    "### Creating the model skeleton\n",
    "we can move on and create a function that creates the model skeleton. Such a skeleton is essentially the representation of the model building blocks - i.e., the architecture. The model itself is not yet alive, and will be instantiated after specifying the skeleton.\n",
    "\n",
    "The steps performed are simple: a model is created with the `Sequential API`, [three convolutional layers](https://machinecurve.com/index.php/2018/12/07/convolutional-neural-networks-and-their-components-for-computer-vision) are stacked on top of each other (note the increasing number of feature maps with increasing abstractness; we benefit most from learning the abstract representations), a `Flatten` operation which allows the output feature maps to be input by the `Dense` layers, which finally generate a [multiclass probability distribution using Softmax](https://machinecurve.com/index.php/2020/01/08/how-does-the-softmax-activation-function-work).\n",
    "\n",
    "It finally returns the `model` after creating the skeleton."
   ]
  },
  {
   "cell_type": "code",
   "execution_count": 13,
   "metadata": {},
   "outputs": [],
   "source": [
    "# Model creation\n",
    "def create_model():\n",
    "  model = Sequential()\n",
    "  model.add(Conv2D(4, kernel_size=(3, 3), activation='relu', input_shape=input_shape))\n",
    "  model.add(Conv2D(8, kernel_size=(3, 3), activation='relu'))\n",
    "  model.add(Conv2D(12, kernel_size=(3, 3), activation='relu'))\n",
    "  model.add(Flatten())\n",
    "  model.add(Dense(256, activation='relu'))\n",
    "  model.add(Dense(no_classes, activation='softmax'))\n",
    "  return model"
   ]
  },
  {
   "cell_type": "markdown",
   "metadata": {},
   "source": [
    "### Instantiating the model\n"
   ]
  },
  {
   "cell_type": "markdown",
   "metadata": {},
   "source": [
    "Here, we specify things like the `loss function` (we use sparse categorical crossentropy loss because our targets, our y values, are <i>integers</i> rather than one-hot encoded vectors).\n",
    "We also specify the optimize, which can be `gradient descent-based` or `Adaptive`, like `Adam`.\n",
    "In addition, we specify <u>additional metrics</u>. \n",
    "\n",
    "We then return the model again to be used by the next step."
   ]
  },
  {
   "cell_type": "code",
   "execution_count": 14,
   "metadata": {},
   "outputs": [],
   "source": [
    "# Model compilation\n",
    "def compile_model(model):\n",
    "  model.compile(loss=keras.losses.sparse_categorical_crossentropy,\n",
    "              optimizer=keras.optimizers.Adam(),\n",
    "              metrics=['accuracy'])\n",
    "  return model"
   ]
  },
  {
   "cell_type": "markdown",
   "metadata": {},
   "source": [
    "### Running the training process\n"
   ]
  },
  {
   "cell_type": "markdown",
   "metadata": {},
   "source": [
    "Here, we accept the <u>model</u> as well as the <u>features</u> and <u>corresponding targets</u> from the training set. Using `configuration options` specified in the model configuration (such as batch size, number of epochs, and verbosity) we start the training process. We do so by calling `model.fit`, which essentially fits the data to the model and attempts to find the `global loss minimum`. Once training has finished, which in our case happens after <i>25 iterations</i> (or epochs), the trained model is returned."
   ]
  },
  {
   "cell_type": "code",
   "execution_count": 38,
   "metadata": {},
   "outputs": [],
   "source": [
    "# Model training\n",
    "def train_model(model, X_train, y_train):\n",
    "  history = model.fit(X_train, y_train,\n",
    "            batch_size=batch_size,\n",
    "            epochs=no_epochs,\n",
    "            verbose=verbosity,\n",
    "            shuffle=True,\n",
    "            validation_split=validation_split)\n",
    "  \n",
    "  return model, history"
   ]
  },
  {
   "cell_type": "markdown",
   "metadata": {},
   "source": [
    "### Generating evaluation metrics\n"
   ]
  },
  {
   "cell_type": "markdown",
   "metadata": {},
   "source": [
    "This function accepts the <u>trained model</u> as well as the <u>features</u> and <u>targets</u> of your testing dataset. It evaluates the model with those samples and prints test `loss` and `accuracy`. For convenience reasons, this function also returns the trained (and now tested) model.\n",
    "\n"
   ]
  },
  {
   "cell_type": "code",
   "execution_count": 16,
   "metadata": {},
   "outputs": [],
   "source": [
    "# Model testing\n",
    "def test_model(model, X_test, y_test):\n",
    "  score = model.evaluate(X_test, y_test, verbose=0)\n",
    "  print(f'Test loss: {score[0]} / Test accuracy: {score[1]}')\n",
    "  return model"
   ]
  },
  {
   "cell_type": "markdown",
   "metadata": {},
   "source": [
    "### Connecting the building blocks\n"
   ]
  },
  {
   "cell_type": "markdown",
   "metadata": {},
   "source": [
    "now time to connect the dots, and specifically do those two things:\n",
    "\n",
    "- Load and merge training and testing data\n",
    "- Constructing the model\n",
    "\n",
    "For both data sets, we use load_data to retrieve our `hot-dog` / `not-hot-dog` data, and eventually merge the two sub datasets each time and create a `np.array` with all the training and testing data, respectively."
   ]
  },
  {
   "cell_type": "code",
   "execution_count": 17,
   "metadata": {},
   "outputs": [],
   "source": [
    "# CLICKING EVERYTHING TOGETHER\n",
    "# Load and merge training data\n",
    "X_train_nh, y_train_nh = load_data(data_type='train', class_name='not_hot_dog')\n",
    "X_train_h, y_train_h = load_data(data_type='train', class_name='hot_dog')\n",
    "X_train = np.array(X_train_nh + X_train_h)\n",
    "X_train = X_train.reshape((X_train.shape[0], img_width, img_height, 1))\n",
    "y_train = np.array(y_train_nh + y_train_h)\n",
    "\n",
    "# Load and merge testing data\n",
    "X_test_nh, y_test_nh = load_data(data_type='test', class_name='not_hot_dog')\n",
    "X_test_h, y_test_h = load_data(data_type='test', class_name='hot_dog')\n",
    "X_test = np.array(X_test_nh + X_test_h)\n",
    "X_test = X_test.reshape((X_test.shape[0], img_width, img_height, 1))\n",
    "y_test = np.array(y_test_nh + y_test_h)"
   ]
  },
  {
   "cell_type": "markdown",
   "metadata": {},
   "source": [
    "### Constructing the model\n"
   ]
  },
  {
   "cell_type": "markdown",
   "metadata": {},
   "source": [
    "Finally, constructing the model is essentially connecting the functions we defined above:\n",
    "\n"
   ]
  },
  {
   "cell_type": "code",
   "execution_count": 39,
   "metadata": {},
   "outputs": [
    {
     "name": "stdout",
     "output_type": "stream",
     "text": [
      "Epoch 1/25\n",
      "340/340 [==============================] - 16s 39ms/step - loss: 0.9613 - accuracy: 0.6118 - val_loss: 1.1232 - val_accuracy: 0.0130\n",
      "Epoch 2/25\n",
      "340/340 [==============================] - 18s 52ms/step - loss: 0.5781 - accuracy: 0.6852 - val_loss: 1.0148 - val_accuracy: 0.2344\n",
      "Epoch 3/25\n",
      "340/340 [==============================] - 19s 57ms/step - loss: 0.4565 - accuracy: 0.7804 - val_loss: 1.3721 - val_accuracy: 0.2297\n",
      "Epoch 4/25\n",
      "340/340 [==============================] - 16s 48ms/step - loss: 0.2880 - accuracy: 0.8845 - val_loss: 1.4479 - val_accuracy: 0.4005\n",
      "Epoch 5/25\n",
      "340/340 [==============================] - 13s 38ms/step - loss: 0.1450 - accuracy: 0.9443 - val_loss: 2.1906 - val_accuracy: 0.3592\n",
      "Epoch 6/25\n",
      "340/340 [==============================] - 13s 37ms/step - loss: 0.0554 - accuracy: 0.9841 - val_loss: 3.8988 - val_accuracy: 0.2686\n",
      "Epoch 7/25\n",
      "340/340 [==============================] - 12s 35ms/step - loss: 0.0414 - accuracy: 0.9879 - val_loss: 4.0321 - val_accuracy: 0.3168\n",
      "Epoch 8/25\n",
      "340/340 [==============================] - 12s 35ms/step - loss: 0.0589 - accuracy: 0.9808 - val_loss: 3.0186 - val_accuracy: 0.4170\n",
      "Epoch 9/25\n",
      "340/340 [==============================] - 15s 43ms/step - loss: 0.0248 - accuracy: 0.9929 - val_loss: 3.0876 - val_accuracy: 0.4229\n",
      "Epoch 10/25\n",
      "340/340 [==============================] - 17s 50ms/step - loss: 0.0451 - accuracy: 0.9867 - val_loss: 5.3713 - val_accuracy: 0.2155\n",
      "Epoch 11/25\n",
      "340/340 [==============================] - 18s 54ms/step - loss: 0.0273 - accuracy: 0.9929 - val_loss: 3.5042 - val_accuracy: 0.4075\n",
      "Epoch 12/25\n",
      "340/340 [==============================] - 16s 47ms/step - loss: 0.0025 - accuracy: 1.0000 - val_loss: 4.0899 - val_accuracy: 0.3675\n",
      "Epoch 13/25\n",
      "340/340 [==============================] - 11s 34ms/step - loss: 3.4903e-04 - accuracy: 1.0000 - val_loss: 4.5862 - val_accuracy: 0.3534\n",
      "Epoch 14/25\n",
      "340/340 [==============================] - 12s 36ms/step - loss: 1.9452e-04 - accuracy: 1.0000 - val_loss: 4.7699 - val_accuracy: 0.3581\n",
      "Epoch 15/25\n",
      "340/340 [==============================] - 12s 35ms/step - loss: 1.3467e-04 - accuracy: 1.0000 - val_loss: 4.9318 - val_accuracy: 0.3581\n",
      "Epoch 16/25\n",
      "340/340 [==============================] - 13s 37ms/step - loss: 9.7987e-05 - accuracy: 1.0000 - val_loss: 5.1410 - val_accuracy: 0.3522\n",
      "Epoch 17/25\n",
      "340/340 [==============================] - 17s 49ms/step - loss: 7.3548e-05 - accuracy: 1.0000 - val_loss: 5.2520 - val_accuracy: 0.3581\n",
      "Epoch 18/25\n",
      "340/340 [==============================] - 15s 45ms/step - loss: 5.5106e-05 - accuracy: 1.0000 - val_loss: 5.3912 - val_accuracy: 0.3604\n",
      "Epoch 19/25\n",
      "340/340 [==============================] - 14s 41ms/step - loss: 4.2132e-05 - accuracy: 1.0000 - val_loss: 5.4830 - val_accuracy: 0.3651\n",
      "Epoch 20/25\n",
      "340/340 [==============================] - 12s 35ms/step - loss: 3.2243e-05 - accuracy: 1.0000 - val_loss: 5.6082 - val_accuracy: 0.3651\n",
      "Epoch 21/25\n",
      "340/340 [==============================] - 11s 34ms/step - loss: 2.4737e-05 - accuracy: 1.0000 - val_loss: 5.7447 - val_accuracy: 0.3651\n",
      "Epoch 22/25\n",
      "340/340 [==============================] - 13s 37ms/step - loss: 1.9302e-05 - accuracy: 1.0000 - val_loss: 5.8500 - val_accuracy: 0.3640\n",
      "Epoch 23/25\n",
      "340/340 [==============================] - 12s 35ms/step - loss: 1.5055e-05 - accuracy: 1.0000 - val_loss: 5.9731 - val_accuracy: 0.3604\n",
      "Epoch 24/25\n",
      "340/340 [==============================] - 12s 36ms/step - loss: 1.1963e-05 - accuracy: 1.0000 - val_loss: 6.1089 - val_accuracy: 0.3581\n",
      "Epoch 25/25\n",
      "340/340 [==============================] - 12s 35ms/step - loss: 9.4706e-06 - accuracy: 1.0000 - val_loss: 6.0953 - val_accuracy: 0.3675\n",
      "Test loss: 4.244704723358154 / Test accuracy: 0.5375000238418579\n"
     ]
    }
   ],
   "source": [
    "# Create and train the model\n",
    "model = create_model()\n",
    "model = compile_model(model)\n",
    "model, history = train_model(model, X_train, y_train)\n",
    "model = test_model(model, X_test, y_test)"
   ]
  },
  {
   "cell_type": "code",
   "execution_count": 40,
   "metadata": {},
   "outputs": [
    {
     "data": {
      "image/png": "[encoded data removed]",
      "text/plain": [
       "<Figure size 640x480 with 1 Axes>"
      ]
     },
     "metadata": {},
     "output_type": "display_data"
    },
    {
     "data": {
      "image/png": "[encoded data removed]",
      "text/plain": [
       "<Figure size 640x480 with 1 Axes>"
      ]
     },
     "metadata": {},
     "output_type": "display_data"
    }
   ],
   "source": [
    "history_frame = pd.DataFrame(history.history)\n",
    "history_frame.loc[:, ['loss', 'val_loss']].plot()\n",
    "history_frame.loc[:, ['accuracy', 'val_accuracy']].plot();"
   ]
  }
 ],
 "metadata": {
  "kernelspec": {
   "display_name": "Python 3",
   "language": "python",
   "name": "python3"
  },
  "language_info": {
   "codemirror_mode": {
    "name": "ipython",
    "version": 3
   },
   "file_extension": ".py",
   "mimetype": "text/x-python",
   "name": "python",
   "nbconvert_exporter": "python",
   "pygments_lexer": "ipython3",
   "version": "3.10.12"
  }
 },
 "nbformat": 4,
 "nbformat_minor": 2
}
